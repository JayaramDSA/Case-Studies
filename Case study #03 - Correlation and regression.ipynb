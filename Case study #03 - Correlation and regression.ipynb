{
 "cells": [
  {
   "cell_type": "markdown",
   "id": "27048e0c",
   "metadata": {},
   "source": [
    "Case study #03 - Correlation and Regression by Jayaram K"
   ]
  },
  {
   "cell_type": "code",
   "execution_count": 2,
   "id": "0140975f",
   "metadata": {},
   "outputs": [],
   "source": [
    "# Importing necessary libraries\n",
    "import pandas as pd\n",
    "import numpy as np\n",
    "import matplotlib.pyplot as plt\n",
    "import seaborn as sns"
   ]
  },
  {
   "cell_type": "code",
   "execution_count": 3,
   "id": "9d004efc",
   "metadata": {},
   "outputs": [],
   "source": [
    "# Read the data to Python environment"
   ]
  },
  {
   "cell_type": "code",
   "execution_count": 4,
   "id": "5f309c58",
   "metadata": {},
   "outputs": [],
   "source": [
    "adv_data = pd.read_csv('Add_sales_data_2018.csv')"
   ]
  },
  {
   "cell_type": "code",
   "execution_count": 5,
   "id": "b56d0d74",
   "metadata": {},
   "outputs": [],
   "source": [
    "# To check first 5 rows of Data frame"
   ]
  },
  {
   "cell_type": "code",
   "execution_count": 54,
   "id": "8f0eee72",
   "metadata": {},
   "outputs": [
    {
     "data": {
      "text/html": [
       "<div>\n",
       "<style scoped>\n",
       "    .dataframe tbody tr th:only-of-type {\n",
       "        vertical-align: middle;\n",
       "    }\n",
       "\n",
       "    .dataframe tbody tr th {\n",
       "        vertical-align: top;\n",
       "    }\n",
       "\n",
       "    .dataframe thead th {\n",
       "        text-align: right;\n",
       "    }\n",
       "</style>\n",
       "<table border=\"1\" class=\"dataframe\">\n",
       "  <thead>\n",
       "    <tr style=\"text-align: right;\">\n",
       "      <th></th>\n",
       "      <th>Date</th>\n",
       "      <th>Add1(in Thousands)</th>\n",
       "      <th>Add2(in Thousands)</th>\n",
       "      <th>Add3(in Thousands)</th>\n",
       "      <th>Add4(in Thousands)</th>\n",
       "      <th>Add5(in Thousands)</th>\n",
       "      <th>Profit(in Thousands)</th>\n",
       "    </tr>\n",
       "  </thead>\n",
       "  <tbody>\n",
       "    <tr>\n",
       "      <th>0</th>\n",
       "      <td>2018-10-08</td>\n",
       "      <td>208.00</td>\n",
       "      <td>222.25</td>\n",
       "      <td>206.85</td>\n",
       "      <td>216.00</td>\n",
       "      <td>215.15</td>\n",
       "      <td>4093.065</td>\n",
       "    </tr>\n",
       "    <tr>\n",
       "      <th>1</th>\n",
       "      <td>2018-10-05</td>\n",
       "      <td>217.00</td>\n",
       "      <td>218.60</td>\n",
       "      <td>205.90</td>\n",
       "      <td>210.25</td>\n",
       "      <td>209.20</td>\n",
       "      <td>4042.448</td>\n",
       "    </tr>\n",
       "    <tr>\n",
       "      <th>2</th>\n",
       "      <td>2018-10-04</td>\n",
       "      <td>223.50</td>\n",
       "      <td>227.80</td>\n",
       "      <td>216.15</td>\n",
       "      <td>217.25</td>\n",
       "      <td>218.20</td>\n",
       "      <td>4213.819</td>\n",
       "    </tr>\n",
       "    <tr>\n",
       "      <th>3</th>\n",
       "      <td>2018-10-03</td>\n",
       "      <td>230.00</td>\n",
       "      <td>237.50</td>\n",
       "      <td>225.75</td>\n",
       "      <td>226.45</td>\n",
       "      <td>227.60</td>\n",
       "      <td>4391.665</td>\n",
       "    </tr>\n",
       "    <tr>\n",
       "      <th>4</th>\n",
       "      <td>2018-10-01</td>\n",
       "      <td>234.55</td>\n",
       "      <td>234.60</td>\n",
       "      <td>221.05</td>\n",
       "      <td>230.30</td>\n",
       "      <td>230.90</td>\n",
       "      <td>4350.683</td>\n",
       "    </tr>\n",
       "  </tbody>\n",
       "</table>\n",
       "</div>"
      ],
      "text/plain": [
       "         Date  Add1(in Thousands)  Add2(in Thousands)  Add3(in Thousands)  \\\n",
       "0  2018-10-08              208.00              222.25              206.85   \n",
       "1  2018-10-05              217.00              218.60              205.90   \n",
       "2  2018-10-04              223.50              227.80              216.15   \n",
       "3  2018-10-03              230.00              237.50              225.75   \n",
       "4  2018-10-01              234.55              234.60              221.05   \n",
       "\n",
       "   Add4(in Thousands)  Add5(in Thousands)  Profit(in Thousands)  \n",
       "0              216.00              215.15              4093.065  \n",
       "1              210.25              209.20              4042.448  \n",
       "2              217.25              218.20              4213.819  \n",
       "3              226.45              227.60              4391.665  \n",
       "4              230.30              230.90              4350.683  "
      ]
     },
     "execution_count": 54,
     "metadata": {},
     "output_type": "execute_result"
    }
   ],
   "source": [
    "adv_data.head(5)"
   ]
  },
  {
   "cell_type": "code",
   "execution_count": 7,
   "id": "0becd05c",
   "metadata": {},
   "outputs": [],
   "source": [
    "# To check the Data types of the Columns"
   ]
  },
  {
   "cell_type": "code",
   "execution_count": 8,
   "id": "748a5ec2",
   "metadata": {},
   "outputs": [
    {
     "data": {
      "text/plain": [
       "Date                     object\n",
       "Add1(in Thousands)      float64\n",
       "Add2(in Thousands)      float64\n",
       "Add3(in Thousands)      float64\n",
       "Add4(in Thousands)      float64\n",
       "Add5(in Thousands)      float64\n",
       "Profit(in Thousands)    float64\n",
       "dtype: object"
      ]
     },
     "execution_count": 8,
     "metadata": {},
     "output_type": "execute_result"
    }
   ],
   "source": [
    "adv_data.dtypes"
   ]
  },
  {
   "cell_type": "code",
   "execution_count": 9,
   "id": "e8917e22",
   "metadata": {},
   "outputs": [],
   "source": [
    "# To check any null values present in the Data frame"
   ]
  },
  {
   "cell_type": "code",
   "execution_count": 10,
   "id": "c7396d7f",
   "metadata": {},
   "outputs": [
    {
     "data": {
      "text/plain": [
       "Date                    0\n",
       "Add1(in Thousands)      0\n",
       "Add2(in Thousands)      0\n",
       "Add3(in Thousands)      0\n",
       "Add4(in Thousands)      0\n",
       "Add5(in Thousands)      0\n",
       "Profit(in Thousands)    0\n",
       "dtype: int64"
      ]
     },
     "execution_count": 10,
     "metadata": {},
     "output_type": "execute_result"
    }
   ],
   "source": [
    "adv_data.isnull().sum()"
   ]
  },
  {
   "cell_type": "markdown",
   "id": "8cf0cd84",
   "metadata": {},
   "source": [
    " - No Null Values present in the data. We can continue with the same Data frame for calculations."
   ]
  },
  {
   "cell_type": "markdown",
   "id": "1039a7a1",
   "metadata": {},
   "source": [
    "# 1. First of all, check whether there is any relationship between the amount spent for advertising through five different companies and profit generated."
   ]
  },
  {
   "cell_type": "code",
   "execution_count": null,
   "id": "f5dbdf80",
   "metadata": {},
   "outputs": [],
   "source": []
  },
  {
   "cell_type": "markdown",
   "id": "80d79478",
   "metadata": {},
   "source": [
    "A commonly used method for finding relationship is with a Correlation, which describes how close to linear fashion one variable changes as related to changes in another variable.The method to find any relationship between different variables of data is to find the Corelation among them. \n",
    "- The correlation coefficient,the result, which has a value that must fall between -1.0 and +1.0."
   ]
  },
  {
   "cell_type": "code",
   "execution_count": 11,
   "id": "538e5d28",
   "metadata": {},
   "outputs": [],
   "source": [
    "# We use corr() to find the pairwise correlation of all columns in the dataframe.  \n",
    "# In this case, correlation between the amount spent for advertising through five different companies and profit generated."
   ]
  },
  {
   "cell_type": "code",
   "execution_count": 12,
   "id": "3f91381e",
   "metadata": {},
   "outputs": [
    {
     "data": {
      "text/html": [
       "<div>\n",
       "<style scoped>\n",
       "    .dataframe tbody tr th:only-of-type {\n",
       "        vertical-align: middle;\n",
       "    }\n",
       "\n",
       "    .dataframe tbody tr th {\n",
       "        vertical-align: top;\n",
       "    }\n",
       "\n",
       "    .dataframe thead th {\n",
       "        text-align: right;\n",
       "    }\n",
       "</style>\n",
       "<table border=\"1\" class=\"dataframe\">\n",
       "  <thead>\n",
       "    <tr style=\"text-align: right;\">\n",
       "      <th></th>\n",
       "      <th>Add1(in Thousands)</th>\n",
       "      <th>Add2(in Thousands)</th>\n",
       "      <th>Add3(in Thousands)</th>\n",
       "      <th>Add4(in Thousands)</th>\n",
       "      <th>Add5(in Thousands)</th>\n",
       "      <th>Profit(in Thousands)</th>\n",
       "    </tr>\n",
       "  </thead>\n",
       "  <tbody>\n",
       "    <tr>\n",
       "      <th>Add1(in Thousands)</th>\n",
       "      <td>1.000000</td>\n",
       "      <td>0.990976</td>\n",
       "      <td>0.986274</td>\n",
       "      <td>0.976365</td>\n",
       "      <td>0.976716</td>\n",
       "      <td>0.991975</td>\n",
       "    </tr>\n",
       "    <tr>\n",
       "      <th>Add2(in Thousands)</th>\n",
       "      <td>0.990976</td>\n",
       "      <td>1.000000</td>\n",
       "      <td>0.987990</td>\n",
       "      <td>0.989921</td>\n",
       "      <td>0.990285</td>\n",
       "      <td>0.999145</td>\n",
       "    </tr>\n",
       "    <tr>\n",
       "      <th>Add3(in Thousands)</th>\n",
       "      <td>0.986274</td>\n",
       "      <td>0.987990</td>\n",
       "      <td>1.000000</td>\n",
       "      <td>0.991343</td>\n",
       "      <td>0.991908</td>\n",
       "      <td>0.993389</td>\n",
       "    </tr>\n",
       "    <tr>\n",
       "      <th>Add4(in Thousands)</th>\n",
       "      <td>0.976365</td>\n",
       "      <td>0.989921</td>\n",
       "      <td>0.991343</td>\n",
       "      <td>1.000000</td>\n",
       "      <td>0.999699</td>\n",
       "      <td>0.993346</td>\n",
       "    </tr>\n",
       "    <tr>\n",
       "      <th>Add5(in Thousands)</th>\n",
       "      <td>0.976716</td>\n",
       "      <td>0.990285</td>\n",
       "      <td>0.991908</td>\n",
       "      <td>0.999699</td>\n",
       "      <td>1.000000</td>\n",
       "      <td>0.993710</td>\n",
       "    </tr>\n",
       "    <tr>\n",
       "      <th>Profit(in Thousands)</th>\n",
       "      <td>0.991975</td>\n",
       "      <td>0.999145</td>\n",
       "      <td>0.993389</td>\n",
       "      <td>0.993346</td>\n",
       "      <td>0.993710</td>\n",
       "      <td>1.000000</td>\n",
       "    </tr>\n",
       "  </tbody>\n",
       "</table>\n",
       "</div>"
      ],
      "text/plain": [
       "                      Add1(in Thousands)  Add2(in Thousands)  \\\n",
       "Add1(in Thousands)              1.000000            0.990976   \n",
       "Add2(in Thousands)              0.990976            1.000000   \n",
       "Add3(in Thousands)              0.986274            0.987990   \n",
       "Add4(in Thousands)              0.976365            0.989921   \n",
       "Add5(in Thousands)              0.976716            0.990285   \n",
       "Profit(in Thousands)            0.991975            0.999145   \n",
       "\n",
       "                      Add3(in Thousands)  Add4(in Thousands)  \\\n",
       "Add1(in Thousands)              0.986274            0.976365   \n",
       "Add2(in Thousands)              0.987990            0.989921   \n",
       "Add3(in Thousands)              1.000000            0.991343   \n",
       "Add4(in Thousands)              0.991343            1.000000   \n",
       "Add5(in Thousands)              0.991908            0.999699   \n",
       "Profit(in Thousands)            0.993389            0.993346   \n",
       "\n",
       "                      Add5(in Thousands)  Profit(in Thousands)  \n",
       "Add1(in Thousands)              0.976716              0.991975  \n",
       "Add2(in Thousands)              0.990285              0.999145  \n",
       "Add3(in Thousands)              0.991908              0.993389  \n",
       "Add4(in Thousands)              0.999699              0.993346  \n",
       "Add5(in Thousands)              1.000000              0.993710  \n",
       "Profit(in Thousands)            0.993710              1.000000  "
      ]
     },
     "execution_count": 12,
     "metadata": {},
     "output_type": "execute_result"
    }
   ],
   "source": [
    "corr_matrix = adv_data.corr()\n",
    "corr_matrix"
   ]
  },
  {
   "cell_type": "code",
   "execution_count": 13,
   "id": "c89747d5",
   "metadata": {},
   "outputs": [],
   "source": [
    "# We can also plot a graph, Heatmap to get information about the correlation."
   ]
  },
  {
   "cell_type": "markdown",
   "id": "520e1a77",
   "metadata": {},
   "source": [
    "Note: From the above table we can see that 0.976716 is the smallest value, so we set vmin to .976 and vmax to 1, which is the max for correlation."
   ]
  },
  {
   "cell_type": "code",
   "execution_count": 14,
   "id": "cf25ca8b",
   "metadata": {},
   "outputs": [
    {
     "data": {
      "image/png": "[encoded data removed]",
      "text/plain": [
       "<Figure size 1440x576 with 2 Axes>"
      ]
     },
     "metadata": {
      "needs_background": "light"
     },
     "output_type": "display_data"
    }
   ],
   "source": [
    "plt.subplots(figsize=(20,8))\n",
    "sns.heatmap(data =corr_matrix , vmin = .976, vmax = 1, annot = True, linewidth = .2, cmap='Blues')\n",
    "plt.title('Correlation Heatmap',fontsize =15)\n",
    "plt.show()"
   ]
  },
  {
   "cell_type": "code",
   "execution_count": null,
   "id": "319a5698",
   "metadata": {},
   "outputs": [],
   "source": []
  },
  {
   "cell_type": "markdown",
   "id": "b2ba4ce5",
   "metadata": {},
   "source": [
    "When observing the table or graph we can find that all variables (Add1,...,Add5 and Profit), are highly correlated. All values are near to 1 which indicate a high correlation or relation among them."
   ]
  },
  {
   "cell_type": "markdown",
   "id": "4e8c0b9a",
   "metadata": {},
   "source": [
    "- So we can say that there is a strong relationship between the amount spent for advertising through five different companies and profit generated."
   ]
  },
  {
   "cell_type": "code",
   "execution_count": null,
   "id": "ee3d11f3",
   "metadata": {},
   "outputs": [],
   "source": []
  },
  {
   "cell_type": "markdown",
   "id": "e5c227a9",
   "metadata": {},
   "source": [
    "# 2. Build a regression model to predict the profit from the given data and comment your findings on it"
   ]
  },
  {
   "cell_type": "code",
   "execution_count": null,
   "id": "cb76c623",
   "metadata": {},
   "outputs": [],
   "source": []
  },
  {
   "cell_type": "markdown",
   "id": "bcb70055",
   "metadata": {},
   "source": [
    "- Regression models predict a value of the Y variable(dependent or target variable) given known values of the X variables(independent or predictor variables)."
   ]
  },
  {
   "cell_type": "code",
   "execution_count": 15,
   "id": "14f12ae5",
   "metadata": {},
   "outputs": [
    {
     "data": {
      "text/plain": [
       "Date                     object\n",
       "Add1(in Thousands)      float64\n",
       "Add2(in Thousands)      float64\n",
       "Add3(in Thousands)      float64\n",
       "Add4(in Thousands)      float64\n",
       "Add5(in Thousands)      float64\n",
       "Profit(in Thousands)    float64\n",
       "dtype: object"
      ]
     },
     "execution_count": 15,
     "metadata": {},
     "output_type": "execute_result"
    }
   ],
   "source": [
    "adv_data.dtypes"
   ]
  },
  {
   "cell_type": "code",
   "execution_count": 16,
   "id": "e5815655",
   "metadata": {},
   "outputs": [],
   "source": [
    "# Refine the DataFrame with the columns that we need to build the regression model"
   ]
  },
  {
   "cell_type": "code",
   "execution_count": 67,
   "id": "d6913457",
   "metadata": {},
   "outputs": [
    {
     "data": {
      "text/html": [
       "<div>\n",
       "<style scoped>\n",
       "    .dataframe tbody tr th:only-of-type {\n",
       "        vertical-align: middle;\n",
       "    }\n",
       "\n",
       "    .dataframe tbody tr th {\n",
       "        vertical-align: top;\n",
       "    }\n",
       "\n",
       "    .dataframe thead th {\n",
       "        text-align: right;\n",
       "    }\n",
       "</style>\n",
       "<table border=\"1\" class=\"dataframe\">\n",
       "  <thead>\n",
       "    <tr style=\"text-align: right;\">\n",
       "      <th></th>\n",
       "      <th>Add1(in Thousands)</th>\n",
       "      <th>Add2(in Thousands)</th>\n",
       "      <th>Add3(in Thousands)</th>\n",
       "      <th>Add4(in Thousands)</th>\n",
       "      <th>Add5(in Thousands)</th>\n",
       "      <th>Profit(in Thousands)</th>\n",
       "    </tr>\n",
       "  </thead>\n",
       "  <tbody>\n",
       "    <tr>\n",
       "      <th>0</th>\n",
       "      <td>208.00</td>\n",
       "      <td>222.25</td>\n",
       "      <td>206.85</td>\n",
       "      <td>216.00</td>\n",
       "      <td>215.15</td>\n",
       "      <td>4093.065</td>\n",
       "    </tr>\n",
       "    <tr>\n",
       "      <th>1</th>\n",
       "      <td>217.00</td>\n",
       "      <td>218.60</td>\n",
       "      <td>205.90</td>\n",
       "      <td>210.25</td>\n",
       "      <td>209.20</td>\n",
       "      <td>4042.448</td>\n",
       "    </tr>\n",
       "    <tr>\n",
       "      <th>2</th>\n",
       "      <td>223.50</td>\n",
       "      <td>227.80</td>\n",
       "      <td>216.15</td>\n",
       "      <td>217.25</td>\n",
       "      <td>218.20</td>\n",
       "      <td>4213.819</td>\n",
       "    </tr>\n",
       "    <tr>\n",
       "      <th>3</th>\n",
       "      <td>230.00</td>\n",
       "      <td>237.50</td>\n",
       "      <td>225.75</td>\n",
       "      <td>226.45</td>\n",
       "      <td>227.60</td>\n",
       "      <td>4391.665</td>\n",
       "    </tr>\n",
       "    <tr>\n",
       "      <th>4</th>\n",
       "      <td>234.55</td>\n",
       "      <td>234.60</td>\n",
       "      <td>221.05</td>\n",
       "      <td>230.30</td>\n",
       "      <td>230.90</td>\n",
       "      <td>4350.683</td>\n",
       "    </tr>\n",
       "  </tbody>\n",
       "</table>\n",
       "</div>"
      ],
      "text/plain": [
       "   Add1(in Thousands)  Add2(in Thousands)  Add3(in Thousands)  \\\n",
       "0              208.00              222.25              206.85   \n",
       "1              217.00              218.60              205.90   \n",
       "2              223.50              227.80              216.15   \n",
       "3              230.00              237.50              225.75   \n",
       "4              234.55              234.60              221.05   \n",
       "\n",
       "   Add4(in Thousands)  Add5(in Thousands)  Profit(in Thousands)  \n",
       "0              216.00              215.15              4093.065  \n",
       "1              210.25              209.20              4042.448  \n",
       "2              217.25              218.20              4213.819  \n",
       "3              226.45              227.60              4391.665  \n",
       "4              230.30              230.90              4350.683  "
      ]
     },
     "execution_count": 67,
     "metadata": {},
     "output_type": "execute_result"
    }
   ],
   "source": [
    "ref_data = adv_data.select_dtypes(include=['float64']) #Select columns with datatype folat64\n",
    "ref_data.head()"
   ]
  },
  {
   "cell_type": "code",
   "execution_count": 68,
   "id": "edc72c89",
   "metadata": {},
   "outputs": [],
   "source": [
    "# Define dependent(y) and independent(X) variables "
   ]
  },
  {
   "cell_type": "markdown",
   "id": "4e1f8fa7",
   "metadata": {},
   "source": [
    "- Here we select Profit(in Thousands) as our dependent(y) variable or Target and Add1(in Thousands),Add2(in Thousands),Add3(in Thousands),Add4(in Thousands) and Add5(in Thousands) as our independent(X) variables. "
   ]
  },
  {
   "cell_type": "code",
   "execution_count": 19,
   "id": "973c42b6",
   "metadata": {},
   "outputs": [],
   "source": [
    "y = ref_data['Profit(in Thousands)']\n",
    "X= ref_data.drop(['Profit(in Thousands)'],axis=1)"
   ]
  },
  {
   "cell_type": "markdown",
   "id": "55b8ab01",
   "metadata": {},
   "source": [
    "Now we split the DataFrame into Test and Train data"
   ]
  },
  {
   "cell_type": "code",
   "execution_count": 20,
   "id": "79746b0a",
   "metadata": {},
   "outputs": [],
   "source": [
    "#From the sklearn module we will use the train_test_split() method to split the dataset."
   ]
  },
  {
   "cell_type": "code",
   "execution_count": 21,
   "id": "e1e0bf44",
   "metadata": {},
   "outputs": [],
   "source": [
    "# Importing necessary libraries\n",
    "from sklearn.model_selection import train_test_split"
   ]
  },
  {
   "cell_type": "code",
   "execution_count": 22,
   "id": "7d4ce699",
   "metadata": {},
   "outputs": [],
   "source": [
    "X_train,X_test,y_train,y_test = train_test_split(X,y,random_state = 42, test_size = .25)"
   ]
  },
  {
   "cell_type": "markdown",
   "id": "50d8573d",
   "metadata": {},
   "source": [
    "Split the data frame into Train data as, X_train & y_train and to Test data as, X_test & y_test.\n",
    "We spilt them in 75% to Train and 25% to Test by setting test_size = .25\n",
    "Take random_state = 42 to get the same data everytime."
   ]
  },
  {
   "cell_type": "code",
   "execution_count": 23,
   "id": "407c46c7",
   "metadata": {},
   "outputs": [],
   "source": [
    "# From the sklearn module we will use the LinearRegression() method to create a linear regression object."
   ]
  },
  {
   "cell_type": "code",
   "execution_count": 24,
   "id": "71c979a6",
   "metadata": {},
   "outputs": [],
   "source": [
    "# Importing necessary libraries\n",
    "from sklearn import linear_model"
   ]
  },
  {
   "cell_type": "code",
   "execution_count": 25,
   "id": "986536c4",
   "metadata": {},
   "outputs": [],
   "source": [
    "lr = linear_model.LinearRegression() #Create Linear Regression model"
   ]
  },
  {
   "cell_type": "code",
   "execution_count": 26,
   "id": "01b55bda",
   "metadata": {},
   "outputs": [],
   "source": [
    "model = lr.fit(X_train,y_train)  #Train Linear Regression model(lr) with our Train data(X_train,y_train)"
   ]
  },
  {
   "cell_type": "code",
   "execution_count": 27,
   "id": "27d0a3dc",
   "metadata": {},
   "outputs": [],
   "source": [
    "predictions = model.predict(X_test) # Make prediction about Profit by using the Test data(X_test)"
   ]
  },
  {
   "cell_type": "code",
   "execution_count": 69,
   "id": "d5bae6e2",
   "metadata": {},
   "outputs": [],
   "source": [
    "# Now we Check whether the Regression model is fit to predict"
   ]
  },
  {
   "cell_type": "markdown",
   "id": "609a05d3",
   "metadata": {},
   "source": [
    "We can use the metric R-Square to evaluate the model performance"
   ]
  },
  {
   "cell_type": "code",
   "execution_count": 29,
   "id": "8e7e5aea",
   "metadata": {},
   "outputs": [
    {
     "name": "stdout",
     "output_type": "stream",
     "text": [
      "R-Squard score for this model is; 1.0\n"
     ]
    }
   ],
   "source": [
    "# Importing necessary libraries\n",
    "from sklearn.metrics import r2_score\n",
    "\n",
    "r2 = r2_score(y_test, predictions)\n",
    "print('R-Squard score for this model is;', r2)"
   ]
  },
  {
   "cell_type": "markdown",
   "id": "ef522ba7",
   "metadata": {},
   "source": [
    "R-squared is a statistical measure of how close the data are to the fitted regression line. It is also known as the coefficient of determination.\n",
    "- R-squared values range from 0 to 1 and are commonly stated as percentages from 0% to 100%. \n",
    "- An R-squared of 1 indicates that the regression predictions perfectly fit the data."
   ]
  },
  {
   "cell_type": "markdown",
   "id": "d3b1c386",
   "metadata": {},
   "source": [
    "A value of 1.0 indicates a perfect fit or 100% of the variation in y can be explained by the x-variables, and is thus a highly reliable model for future forecasts\n"
   ]
  },
  {
   "cell_type": "code",
   "execution_count": 30,
   "id": "55241b99",
   "metadata": {},
   "outputs": [],
   "source": [
    "# Now we find the Mean Squared Error(MSE), another metrics to check our Regression model"
   ]
  },
  {
   "cell_type": "markdown",
   "id": "20e2b6b8",
   "metadata": {},
   "source": [
    "The Mean Squared Error (MSE) is a measure of how close a fitted line is to data points. Minimizing MSE is the key criterion(close to zero)."
   ]
  },
  {
   "cell_type": "code",
   "execution_count": 34,
   "id": "160bf3b4",
   "metadata": {},
   "outputs": [],
   "source": [
    "# Importing necessary libraries\n",
    "from sklearn.metrics import mean_squared_error"
   ]
  },
  {
   "cell_type": "code",
   "execution_count": 70,
   "id": "5a7a2542",
   "metadata": {},
   "outputs": [
    {
     "name": "stdout",
     "output_type": "stream",
     "text": [
      "The MSE is: 8.11273293080854e-25\n"
     ]
    }
   ],
   "source": [
    "mse = mean_squared_error(y_test,predictions)\n",
    "print('The MSE is:',mse)"
   ]
  },
  {
   "cell_type": "markdown",
   "id": "ca426db6",
   "metadata": {},
   "source": [
    "- We see that it is very less, alomost equal to zero. That means our Regression model or line is the best fit."
   ]
  },
  {
   "cell_type": "code",
   "execution_count": 41,
   "id": "ea1c5103",
   "metadata": {},
   "outputs": [],
   "source": [
    "# A line graph to illustrate the actual and predicted values"
   ]
  },
  {
   "cell_type": "code",
   "execution_count": 40,
   "id": "668771b5",
   "metadata": {
    "scrolled": true
   },
   "outputs": [
    {
     "data": {
      "image/png": "[encoded data removed]",
      "text/plain": [
       "<Figure size 1440x432 with 1 Axes>"
      ]
     },
     "metadata": {
      "needs_background": "light"
     },
     "output_type": "display_data"
    }
   ],
   "source": [
    "evaluate = pd.DataFrame({'Actual': y_test.values, 'Predicted': predictions})\n",
    "df = evaluate[['Actual','Predicted']]\n",
    "df.plot(figsize=(20,6))\n",
    "plt.title('Actual vs Predicted Profit (in Thousands)',fontsize =15)\n",
    "plt.show()"
   ]
  },
  {
   "cell_type": "markdown",
   "id": "2a5c3004",
   "metadata": {},
   "source": [
    "We can see both the lines(Actual and Predicted) are almost equal and cannot find any diffrences."
   ]
  },
  {
   "cell_type": "code",
   "execution_count": null,
   "id": "8d1590e2",
   "metadata": {},
   "outputs": [],
   "source": []
  },
  {
   "cell_type": "code",
   "execution_count": null,
   "id": "5f85d2a7",
   "metadata": {},
   "outputs": [],
   "source": [
    "# Intercept and Slope coefficients of regression liine"
   ]
  },
  {
   "cell_type": "code",
   "execution_count": 71,
   "id": "82e69712",
   "metadata": {},
   "outputs": [
    {
     "name": "stdout",
     "output_type": "stream",
     "text": [
      "y-intercept: 0.0\n",
      "Slope coefficients: [ 1.   12.38  3.5   1.    0.9 ]\n"
     ]
    }
   ],
   "source": [
    "print('y-intercept:',model.intercept_)\n",
    "print('Slope coefficients:', model.coef_)"
   ]
  },
  {
   "cell_type": "markdown",
   "id": "1cf61e2a",
   "metadata": {},
   "source": [
    "With this we can define the regression line for this model"
   ]
  },
  {
   "cell_type": "markdown",
   "id": "2ead5412",
   "metadata": {},
   "source": [
    "Profit = 0 + [1.0 * (Add1)] + [12.38 * (Add2)] + [3.5 * (Add3)] + [1.0 * (Add4)] +  [0.9 * (Add5)]"
   ]
  },
  {
   "cell_type": "markdown",
   "id": "1e500645",
   "metadata": {},
   "source": [
    "Conclusions:"
   ]
  },
  {
   "cell_type": "markdown",
   "id": "22340f01",
   "metadata": {},
   "source": [
    "1. R-squared and Mean Squared Error for our model is very good.So the predictions will be accurate.\n",
    "2. From the Regression line we can find Add2 is the biggest contributor for generating profit. \n",
    "    Ex: If we give value 1 to Add2 and 0 to Add1,Add3,Add4 & Add5, it gives a profit of 12.38. And we consider the same for other then the profit is 1.,3.5,1.0 and 0.9 respectively.\n",
    "3. Even when we add others still it not reaches the profit generated by Add2.\n",
    "4. Hence, the organization can spend more on Add2 company and even remove rest of the add companies because the profit generated by Add2 is almost doble when compared to other 4. "
   ]
  },
  {
   "cell_type": "code",
   "execution_count": null,
   "id": "5259e230",
   "metadata": {},
   "outputs": [],
   "source": []
  },
  {
   "cell_type": "markdown",
   "id": "ed5506b0",
   "metadata": {},
   "source": [
    "# 3. Predict the profit generated by the company, if they wish to spend the following amount for advertisement."
   ]
  },
  {
   "cell_type": "markdown",
   "id": "f6765043",
   "metadata": {},
   "source": [
    "        Add1(in Thousands): 290\n",
    "        Add2(in Thousands): 312\n",
    "        Add3(in Thousands): 309\n",
    "        Add4(in Thousands): 298\n",
    "        Add5(in Thousands): 320"
   ]
  },
  {
   "cell_type": "code",
   "execution_count": 42,
   "id": "92376ee6",
   "metadata": {},
   "outputs": [],
   "source": [
    "#We can calculate the profit by simply giving the values to the regression line equation;"
   ]
  },
  {
   "cell_type": "markdown",
   "id": "cfe82fec",
   "metadata": {},
   "source": [
    "Equation; Profit  =  0 + [1.0 * (Add1)] + [12.38 * (Add2)] + [3.5 * (Add3)] + [1.0 * (Add4)] + [0.9 * (Add5)]"
   ]
  },
  {
   "cell_type": "code",
   "execution_count": 55,
   "id": "5f6e8b2a",
   "metadata": {},
   "outputs": [
    {
     "name": "stdout",
     "output_type": "stream",
     "text": [
      "The estimated Profit generated by the company: 5820.06 (in Thousands)\n"
     ]
    }
   ],
   "source": [
    "profit = (1.*290)  + (12.38*312) + (3.5*309) +  (1. *298)+   (0.9*320)\n",
    "print('The estimated Profit generated by the company:',profit,\"(in Thousands)\")"
   ]
  },
  {
   "cell_type": "code",
   "execution_count": 56,
   "id": "a814bbd0",
   "metadata": {},
   "outputs": [],
   "source": [
    "#using predict() function, this function enables us to predict the new Target values(Profit) on the basis of the trained model."
   ]
  },
  {
   "cell_type": "code",
   "execution_count": 57,
   "id": "295c6bef",
   "metadata": {},
   "outputs": [],
   "source": [
    "values = [[290, 312,309,298,320]]\n",
    "columns = ['Add1(in Thousands)', 'Add2(in Thousands)','Add3(in Thousands)','Add4(in Thousands)','Add5(in Thousands)']\n",
    "new_X = pd.DataFrame(values,columns = columns)\n",
    "new_y = model.predict(new_X)"
   ]
  },
  {
   "cell_type": "code",
   "execution_count": 66,
   "id": "960fa086",
   "metadata": {},
   "outputs": [
    {
     "name": "stdout",
     "output_type": "stream",
     "text": [
      "The estimated Profit generated by the company: 5820.06 (in Thousands)\n"
     ]
    }
   ],
   "source": [
    "print('The estimated Profit generated by the company:',\"%.2f\"% new_y[0],\"(in Thousands)\")"
   ]
  },
  {
   "cell_type": "code",
   "execution_count": null,
   "id": "00de1268",
   "metadata": {},
   "outputs": [],
   "source": []
  },
  {
   "cell_type": "markdown",
   "id": "e73680e0",
   "metadata": {},
   "source": [
    "Thank You."
   ]
  }
 ],
 "metadata": {
  "kernelspec": {
   "display_name": "Python 3 (ipykernel)",
   "language": "python",
   "name": "python3"
  },
  "language_info": {
   "codemirror_mode": {
    "name": "ipython",
    "version": 3
   },
   "file_extension": ".py",
   "mimetype": "text/x-python",
   "name": "python",
   "nbconvert_exporter": "python",
   "pygments_lexer": "ipython3",
   "version": "3.8.12"
  }
 },
 "nbformat": 4,
 "nbformat_minor": 5
}
