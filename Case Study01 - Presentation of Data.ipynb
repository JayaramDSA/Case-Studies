{
 "cells": [
  {
   "cell_type": "code",
   "execution_count": 1,
   "id": "649c3325",
   "metadata": {},
   "outputs": [],
   "source": [
    "#Case study on Presentation of data by Jayaram K"
   ]
  },
  {
   "cell_type": "code",
   "execution_count": 2,
   "id": "d3b6470b",
   "metadata": {},
   "outputs": [],
   "source": [
    "import numpy as np\n",
    "import pandas as pd\n",
    "import matplotlib.pyplot as plt\n",
    "import seaborn as sns"
   ]
  },
  {
   "cell_type": "markdown",
   "id": "0982ad13",
   "metadata": {},
   "source": [
    "# 1. Read the dataset to the python environment"
   ]
  },
  {
   "cell_type": "code",
   "execution_count": 25,
   "id": "4c31c912",
   "metadata": {},
   "outputs": [],
   "source": [
    "cars_data = pd.read_csv('cars_data.csv')"
   ]
  },
  {
   "cell_type": "code",
   "execution_count": 4,
   "id": "4cd620b5",
   "metadata": {},
   "outputs": [
    {
     "data": {
      "text/html": [
       "<div>\n",
       "<style scoped>\n",
       "    .dataframe tbody tr th:only-of-type {\n",
       "        vertical-align: middle;\n",
       "    }\n",
       "\n",
       "    .dataframe tbody tr th {\n",
       "        vertical-align: top;\n",
       "    }\n",
       "\n",
       "    .dataframe thead th {\n",
       "        text-align: right;\n",
       "    }\n",
       "</style>\n",
       "<table border=\"1\" class=\"dataframe\">\n",
       "  <thead>\n",
       "    <tr style=\"text-align: right;\">\n",
       "      <th></th>\n",
       "      <th>Make</th>\n",
       "      <th>Model</th>\n",
       "      <th>Nickname</th>\n",
       "      <th>Car Gender</th>\n",
       "      <th>Buyer Gender</th>\n",
       "      <th>Buyer Age</th>\n",
       "      <th>Buzzword</th>\n",
       "      <th>Country</th>\n",
       "      <th>City</th>\n",
       "      <th>Dealer Latitude</th>\n",
       "      <th>Dealer Longitude</th>\n",
       "      <th>Color</th>\n",
       "      <th>New Car</th>\n",
       "      <th>Purchase Date</th>\n",
       "      <th>Sale Price</th>\n",
       "      <th>Discount</th>\n",
       "      <th>Resell Price</th>\n",
       "      <th>5-yr Depreciation</th>\n",
       "      <th>Top Speed</th>\n",
       "      <th>0-60 Time</th>\n",
       "    </tr>\n",
       "  </thead>\n",
       "  <tbody>\n",
       "    <tr>\n",
       "      <th>0</th>\n",
       "      <td>Suzuki</td>\n",
       "      <td>Vitara</td>\n",
       "      <td>Philippine</td>\n",
       "      <td>Female</td>\n",
       "      <td>Female</td>\n",
       "      <td>51</td>\n",
       "      <td>User-friendly</td>\n",
       "      <td>Belgium</td>\n",
       "      <td>Antwerpen</td>\n",
       "      <td>51.247239</td>\n",
       "      <td>4.440346</td>\n",
       "      <td>Yellow</td>\n",
       "      <td>False</td>\n",
       "      <td>19/07/2009</td>\n",
       "      <td>54806.14</td>\n",
       "      <td>0.2467</td>\n",
       "      <td>33858.32</td>\n",
       "      <td>0.13</td>\n",
       "      <td>200.9</td>\n",
       "      <td>11.5</td>\n",
       "    </tr>\n",
       "    <tr>\n",
       "      <th>1</th>\n",
       "      <td>Honda</td>\n",
       "      <td>S2000</td>\n",
       "      <td>Henrik</td>\n",
       "      <td>Male</td>\n",
       "      <td>Male</td>\n",
       "      <td>30</td>\n",
       "      <td>analyzing</td>\n",
       "      <td>China</td>\n",
       "      <td>Jinhu</td>\n",
       "      <td>33.025433</td>\n",
       "      <td>119.020584</td>\n",
       "      <td>Crimson</td>\n",
       "      <td>False</td>\n",
       "      <td>26/10/2015</td>\n",
       "      <td>51826.30</td>\n",
       "      <td>0.3147</td>\n",
       "      <td>2989.28</td>\n",
       "      <td>0.02</td>\n",
       "      <td>158.5</td>\n",
       "      <td>8.8</td>\n",
       "    </tr>\n",
       "    <tr>\n",
       "      <th>2</th>\n",
       "      <td>BMW</td>\n",
       "      <td>Z4</td>\n",
       "      <td>Lebbie</td>\n",
       "      <td>Male</td>\n",
       "      <td>Female</td>\n",
       "      <td>54</td>\n",
       "      <td>software</td>\n",
       "      <td>China</td>\n",
       "      <td>Gemo</td>\n",
       "      <td>30.916207</td>\n",
       "      <td>121.677640</td>\n",
       "      <td>Khaki</td>\n",
       "      <td>False</td>\n",
       "      <td>28/03/2010</td>\n",
       "      <td>82929.14</td>\n",
       "      <td>0.5414</td>\n",
       "      <td>35049.16</td>\n",
       "      <td>0.24</td>\n",
       "      <td>149.5</td>\n",
       "      <td>14.4</td>\n",
       "    </tr>\n",
       "    <tr>\n",
       "      <th>3</th>\n",
       "      <td>Toyota</td>\n",
       "      <td>Tacoma</td>\n",
       "      <td>Jefferey</td>\n",
       "      <td>Female</td>\n",
       "      <td>Male</td>\n",
       "      <td>68</td>\n",
       "      <td>monitoring</td>\n",
       "      <td>Portugal</td>\n",
       "      <td>Queluz de Baixo</td>\n",
       "      <td>38.745168</td>\n",
       "      <td>-9.267087</td>\n",
       "      <td>Puce</td>\n",
       "      <td>False</td>\n",
       "      <td>07/05/2008</td>\n",
       "      <td>56928.66</td>\n",
       "      <td>0.0850</td>\n",
       "      <td>8236.15</td>\n",
       "      <td>0.20</td>\n",
       "      <td>153.3</td>\n",
       "      <td>11.5</td>\n",
       "    </tr>\n",
       "    <tr>\n",
       "      <th>4</th>\n",
       "      <td>Ford</td>\n",
       "      <td>Festiva</td>\n",
       "      <td>Glendon</td>\n",
       "      <td>Female</td>\n",
       "      <td>Male</td>\n",
       "      <td>70</td>\n",
       "      <td>Sharable</td>\n",
       "      <td>Latvia</td>\n",
       "      <td>Jaunpils</td>\n",
       "      <td>56.729980</td>\n",
       "      <td>23.016588</td>\n",
       "      <td>Yellow</td>\n",
       "      <td>False</td>\n",
       "      <td>01/06/2008</td>\n",
       "      <td>77201.26</td>\n",
       "      <td>0.1642</td>\n",
       "      <td>32765.76</td>\n",
       "      <td>0.18</td>\n",
       "      <td>122.0</td>\n",
       "      <td>14.9</td>\n",
       "    </tr>\n",
       "  </tbody>\n",
       "</table>\n",
       "</div>"
      ],
      "text/plain": [
       "     Make    Model    Nickname Car Gender Buyer Gender  Buyer Age  \\\n",
       "0  Suzuki   Vitara  Philippine     Female       Female         51   \n",
       "1   Honda    S2000      Henrik       Male         Male         30   \n",
       "2     BMW       Z4      Lebbie       Male       Female         54   \n",
       "3  Toyota   Tacoma    Jefferey     Female         Male         68   \n",
       "4    Ford  Festiva     Glendon     Female         Male         70   \n",
       "\n",
       "        Buzzword   Country             City  Dealer Latitude  \\\n",
       "0  User-friendly   Belgium        Antwerpen        51.247239   \n",
       "1      analyzing     China            Jinhu        33.025433   \n",
       "2       software     China             Gemo        30.916207   \n",
       "3     monitoring  Portugal  Queluz de Baixo        38.745168   \n",
       "4       Sharable    Latvia         Jaunpils        56.729980   \n",
       "\n",
       "   Dealer Longitude    Color  New Car Purchase Date  Sale Price  Discount  \\\n",
       "0          4.440346   Yellow    False    19/07/2009    54806.14    0.2467   \n",
       "1        119.020584  Crimson    False    26/10/2015    51826.30    0.3147   \n",
       "2        121.677640    Khaki    False    28/03/2010    82929.14    0.5414   \n",
       "3         -9.267087     Puce    False    07/05/2008    56928.66    0.0850   \n",
       "4         23.016588   Yellow    False    01/06/2008    77201.26    0.1642   \n",
       "\n",
       "   Resell Price  5-yr Depreciation  Top Speed  0-60 Time  \n",
       "0      33858.32               0.13      200.9       11.5  \n",
       "1       2989.28               0.02      158.5        8.8  \n",
       "2      35049.16               0.24      149.5       14.4  \n",
       "3       8236.15               0.20      153.3       11.5  \n",
       "4      32765.76               0.18      122.0       14.9  "
      ]
     },
     "execution_count": 4,
     "metadata": {},
     "output_type": "execute_result"
    }
   ],
   "source": [
    "# Show first 5 rows\n",
    "cars_data.head()"
   ]
  },
  {
   "cell_type": "code",
   "execution_count": 5,
   "id": "ccfdad53",
   "metadata": {},
   "outputs": [
    {
     "data": {
      "text/plain": [
       "Index(['Make', 'Model', 'Nickname', 'Car Gender', 'Buyer Gender', 'Buyer Age',\n",
       "       'Buzzword', 'Country', 'City', 'Dealer Latitude', 'Dealer Longitude',\n",
       "       'Color', 'New Car', 'Purchase Date', 'Sale Price', 'Discount',\n",
       "       'Resell Price', '5-yr Depreciation', 'Top Speed', '0-60 Time'],\n",
       "      dtype='object')"
      ]
     },
     "execution_count": 5,
     "metadata": {},
     "output_type": "execute_result"
    }
   ],
   "source": [
    "# Show the column names\n",
    "cars_data.columns"
   ]
  },
  {
   "cell_type": "code",
   "execution_count": 6,
   "id": "cef49113",
   "metadata": {},
   "outputs": [
    {
     "data": {
      "text/plain": [
       "(10000, 20)"
      ]
     },
     "execution_count": 6,
     "metadata": {},
     "output_type": "execute_result"
    }
   ],
   "source": [
    "#Show total no.of Rows and Columns\n",
    "cars_data.shape"
   ]
  },
  {
   "cell_type": "markdown",
   "id": "7c0f3359",
   "metadata": {},
   "source": [
    "# 2. Check for the null values present in the dataset"
   ]
  },
  {
   "cell_type": "code",
   "execution_count": 7,
   "id": "3021c8d4",
   "metadata": {},
   "outputs": [
    {
     "name": "stdout",
     "output_type": "stream",
     "text": [
      "Total no.of Null value present in data is 0 \n",
      "\n",
      "Hence the data is good.\n"
     ]
    }
   ],
   "source": [
    "null_value = cars_data.isna().sum().sum()\n",
    "\n",
    "null_data = cars_data[cars_data.isnull().any(axis=1)]\n",
    "\n",
    "print('Total no.of Null value present in data is',null_value,'\\n')\n",
    "\n",
    "if null_value > 0:\n",
    "    print('The null values present in the data are:\\n')\n",
    "    print(null_data)\n",
    "else:\n",
    "    print('Hence the data is good.') "
   ]
  },
  {
   "cell_type": "code",
   "execution_count": 8,
   "id": "6c60bf3b",
   "metadata": {},
   "outputs": [
    {
     "name": "stdout",
     "output_type": "stream",
     "text": [
      "<class 'pandas.core.frame.DataFrame'>\n",
      "RangeIndex: 10000 entries, 0 to 9999\n",
      "Data columns (total 20 columns):\n",
      " #   Column             Non-Null Count  Dtype  \n",
      "---  ------             --------------  -----  \n",
      " 0   Make               10000 non-null  object \n",
      " 1   Model              10000 non-null  object \n",
      " 2   Nickname           10000 non-null  object \n",
      " 3   Car Gender         10000 non-null  object \n",
      " 4   Buyer Gender       10000 non-null  object \n",
      " 5   Buyer Age          10000 non-null  int64  \n",
      " 6   Buzzword           10000 non-null  object \n",
      " 7   Country            10000 non-null  object \n",
      " 8   City               10000 non-null  object \n",
      " 9   Dealer Latitude    10000 non-null  float64\n",
      " 10  Dealer Longitude   10000 non-null  float64\n",
      " 11  Color              10000 non-null  object \n",
      " 12  New Car            10000 non-null  bool   \n",
      " 13  Purchase Date      10000 non-null  object \n",
      " 14  Sale Price         10000 non-null  float64\n",
      " 15  Discount           10000 non-null  float64\n",
      " 16  Resell Price       10000 non-null  float64\n",
      " 17  5-yr Depreciation  10000 non-null  float64\n",
      " 18  Top Speed          10000 non-null  float64\n",
      " 19  0-60 Time          10000 non-null  float64\n",
      "dtypes: bool(1), float64(8), int64(1), object(10)\n",
      "memory usage: 1.5+ MB\n"
     ]
    }
   ],
   "source": [
    "#We can also use df.info() method which gives the information about Non-Null count;\n",
    "cars_data.info()"
   ]
  },
  {
   "cell_type": "markdown",
   "id": "f8e3cd26",
   "metadata": {},
   "source": [
    "Here we can see there are 10000 entries and count of Non-Null is 10000. So there is no null values present in data."
   ]
  },
  {
   "cell_type": "markdown",
   "id": "1639e4ce",
   "metadata": {},
   "source": [
    "# 3. Plot a bar graph of male vs female buyers participated in the sales"
   ]
  },
  {
   "cell_type": "code",
   "execution_count": 26,
   "id": "6f2b84d4",
   "metadata": {},
   "outputs": [
    {
     "data": {
      "image/png": "[encoded data removed]",
      "text/plain": [
       "<Figure size 360x432 with 1 Axes>"
      ]
     },
     "metadata": {
      "needs_background": "light"
     },
     "output_type": "display_data"
    }
   ],
   "source": [
    "gender_count = cars_data['Buyer Gender'].value_counts()\n",
    "gender_count1 = gender_count.plot.bar(rot=0,figsize = (5,6))\n",
    "plt.title('Female & Male Buyers',fontsize=20)\n",
    "plt.xlabel(None)\n",
    "plt.ylabel('No.of Buyers',fontsize=18)\n",
    "plt.xticks(fontsize=18)\n",
    "plt.yticks(fontsize=15)\n",
    "plt.bar_label(gender_count1.containers[0],fontsize=12)\n",
    "plt.show()"
   ]
  },
  {
   "cell_type": "markdown",
   "id": "ea692b0a",
   "metadata": {},
   "source": [
    "# 4. Find the top 5 cars based on their sales price."
   ]
  },
  {
   "cell_type": "code",
   "execution_count": 23,
   "id": "c17829df",
   "metadata": {},
   "outputs": [
    {
     "name": "stdout",
     "output_type": "stream",
     "text": [
      "The 5 Most Expensive Cars:\n"
     ]
    },
    {
     "data": {
      "text/html": [
       "<style type=\"text/css\">\n",
       "</style>\n",
       "<table id=\"T_74312_\">\n",
       "  <thead>\n",
       "    <tr>\n",
       "      <th class=\"blank level0\" >&nbsp;</th>\n",
       "      <th class=\"col_heading level0 col0\" >Make</th>\n",
       "      <th class=\"col_heading level0 col1\" >Model</th>\n",
       "      <th class=\"col_heading level0 col2\" >Sale Price</th>\n",
       "    </tr>\n",
       "  </thead>\n",
       "  <tbody>\n",
       "    <tr>\n",
       "      <th id=\"T_74312_level0_row0\" class=\"row_heading level0 row0\" >1</th>\n",
       "      <td id=\"T_74312_row0_col0\" class=\"data row0 col0\" >Volkswagen</td>\n",
       "      <td id=\"T_74312_row0_col1\" class=\"data row0 col1\" >Jetta III</td>\n",
       "      <td id=\"T_74312_row0_col2\" class=\"data row0 col2\" >99997.650000</td>\n",
       "    </tr>\n",
       "    <tr>\n",
       "      <th id=\"T_74312_level0_row1\" class=\"row_heading level0 row1\" >2</th>\n",
       "      <td id=\"T_74312_row1_col0\" class=\"data row1 col0\" >Audi</td>\n",
       "      <td id=\"T_74312_row1_col1\" class=\"data row1 col1\" >A6</td>\n",
       "      <td id=\"T_74312_row1_col2\" class=\"data row1 col2\" >99991.910000</td>\n",
       "    </tr>\n",
       "    <tr>\n",
       "      <th id=\"T_74312_level0_row2\" class=\"row_heading level0 row2\" >3</th>\n",
       "      <td id=\"T_74312_row2_col0\" class=\"data row2 col0\" >Lexus</td>\n",
       "      <td id=\"T_74312_row2_col1\" class=\"data row2 col1\" >LX</td>\n",
       "      <td id=\"T_74312_row2_col2\" class=\"data row2 col2\" >99983.380000</td>\n",
       "    </tr>\n",
       "    <tr>\n",
       "      <th id=\"T_74312_level0_row3\" class=\"row_heading level0 row3\" >4</th>\n",
       "      <td id=\"T_74312_row3_col0\" class=\"data row3 col0\" >Mazda</td>\n",
       "      <td id=\"T_74312_row3_col1\" class=\"data row3 col1\" >MX-6</td>\n",
       "      <td id=\"T_74312_row3_col2\" class=\"data row3 col2\" >99978.170000</td>\n",
       "    </tr>\n",
       "    <tr>\n",
       "      <th id=\"T_74312_level0_row4\" class=\"row_heading level0 row4\" >5</th>\n",
       "      <td id=\"T_74312_row4_col0\" class=\"data row4 col0\" >Lexus</td>\n",
       "      <td id=\"T_74312_row4_col1\" class=\"data row4 col1\" >ES</td>\n",
       "      <td id=\"T_74312_row4_col2\" class=\"data row4 col2\" >99973.440000</td>\n",
       "    </tr>\n",
       "  </tbody>\n",
       "</table>\n"
      ],
      "text/plain": [
       "<pandas.io.formats.style.Styler at 0x27d9377f400>"
      ]
     },
     "execution_count": 23,
     "metadata": {},
     "output_type": "execute_result"
    }
   ],
   "source": [
    "car_model_sp5 = cars_data[['Make','Model','Sale Price']].sort_values(by = ['Sale Price'],ascending = [False]).head(5)\n",
    "car_model_sp = car_model_sp5.set_index(pd.Index([1, 2, 3, 4,5]))\n",
    "print('The 5 Most Expensive Cars:')\n",
    "car_model_sp.style"
   ]
  },
  {
   "cell_type": "markdown",
   "id": "e6cbcbc3",
   "metadata": {},
   "source": [
    "# 5. Find the least 5 cars based on their Resell price."
   ]
  },
  {
   "cell_type": "code",
   "execution_count": 14,
   "id": "15c6944c",
   "metadata": {},
   "outputs": [
    {
     "name": "stdout",
     "output_type": "stream",
     "text": [
      "The 5 Least Prised Cars by its Re-sale price:\n"
     ]
    },
    {
     "data": {
      "text/html": [
       "<style type=\"text/css\">\n",
       "</style>\n",
       "<table id=\"T_97e86_\">\n",
       "  <thead>\n",
       "    <tr>\n",
       "      <th class=\"blank level0\" >&nbsp;</th>\n",
       "      <th class=\"col_heading level0 col0\" >Make</th>\n",
       "      <th class=\"col_heading level0 col1\" >Model</th>\n",
       "      <th class=\"col_heading level0 col2\" >Resell Price</th>\n",
       "    </tr>\n",
       "  </thead>\n",
       "  <tbody>\n",
       "    <tr>\n",
       "      <th id=\"T_97e86_level0_row0\" class=\"row_heading level0 row0\" >1</th>\n",
       "      <td id=\"T_97e86_row0_col0\" class=\"data row0 col0\" >Chevrolet</td>\n",
       "      <td id=\"T_97e86_row0_col1\" class=\"data row0 col1\" >1500</td>\n",
       "      <td id=\"T_97e86_row0_col2\" class=\"data row0 col2\" >2000.840000</td>\n",
       "    </tr>\n",
       "    <tr>\n",
       "      <th id=\"T_97e86_level0_row1\" class=\"row_heading level0 row1\" >2</th>\n",
       "      <td id=\"T_97e86_row1_col0\" class=\"data row1 col0\" >GMC</td>\n",
       "      <td id=\"T_97e86_row1_col1\" class=\"data row1 col1\" >Savana 1500</td>\n",
       "      <td id=\"T_97e86_row1_col2\" class=\"data row1 col2\" >2005.440000</td>\n",
       "    </tr>\n",
       "    <tr>\n",
       "      <th id=\"T_97e86_level0_row2\" class=\"row_heading level0 row2\" >3</th>\n",
       "      <td id=\"T_97e86_row2_col0\" class=\"data row2 col0\" >Jaguar</td>\n",
       "      <td id=\"T_97e86_row2_col1\" class=\"data row2 col1\" >XF</td>\n",
       "      <td id=\"T_97e86_row2_col2\" class=\"data row2 col2\" >2014.090000</td>\n",
       "    </tr>\n",
       "    <tr>\n",
       "      <th id=\"T_97e86_level0_row3\" class=\"row_heading level0 row3\" >4</th>\n",
       "      <td id=\"T_97e86_row3_col0\" class=\"data row3 col0\" >Mitsubishi</td>\n",
       "      <td id=\"T_97e86_row3_col1\" class=\"data row3 col1\" >3000GT</td>\n",
       "      <td id=\"T_97e86_row3_col2\" class=\"data row3 col2\" >2017.240000</td>\n",
       "    </tr>\n",
       "    <tr>\n",
       "      <th id=\"T_97e86_level0_row4\" class=\"row_heading level0 row4\" >5</th>\n",
       "      <td id=\"T_97e86_row4_col0\" class=\"data row4 col0\" >Infiniti</td>\n",
       "      <td id=\"T_97e86_row4_col1\" class=\"data row4 col1\" >G37</td>\n",
       "      <td id=\"T_97e86_row4_col2\" class=\"data row4 col2\" >2017.830000</td>\n",
       "    </tr>\n",
       "  </tbody>\n",
       "</table>\n"
      ],
      "text/plain": [
       "<pandas.io.formats.style.Styler at 0x27d92b3b400>"
      ]
     },
     "execution_count": 14,
     "metadata": {},
     "output_type": "execute_result"
    }
   ],
   "source": [
    "car_model_rp5 = cars_data[['Make','Model','Resell Price']].sort_values(by = ['Resell Price'],ascending = [True]).head(5)\n",
    "car_model_rp = car_model_rp5.set_index(pd.Index([1, 2, 3, 4,5]))\n",
    "print('The 5 Least Prised Cars by its Re-sale price:')\n",
    "car_model_rp.style"
   ]
  },
  {
   "cell_type": "code",
   "execution_count": null,
   "id": "7f80ea1d",
   "metadata": {},
   "outputs": [],
   "source": []
  }
 ],
 "metadata": {
  "kernelspec": {
   "display_name": "Python 3 (ipykernel)",
   "language": "python",
   "name": "python3"
  },
  "language_info": {
   "codemirror_mode": {
    "name": "ipython",
    "version": 3
   },
   "file_extension": ".py",
   "mimetype": "text/x-python",
   "name": "python",
   "nbconvert_exporter": "python",
   "pygments_lexer": "ipython3",
   "version": "3.8.12"
  }
 },
 "nbformat": 4,
 "nbformat_minor": 5
}
